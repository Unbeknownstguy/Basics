{
 "cells": [
  {
   "cell_type": "markdown",
   "id": "b64b3dec",
   "metadata": {},
   "source": [
    "### Numpy - Numerical Python\n",
    "\n",
    "Advantages of Numpy Arrays:\n",
    "1. Allows several Mathematical Operations\n",
    "2. Faster operations"
   ]
  },
  {
   "cell_type": "code",
   "execution_count": 5,
   "id": "77b9758a",
   "metadata": {},
   "outputs": [],
   "source": [
    "import numpy as np"
   ]
  },
  {
   "cell_type": "markdown",
   "id": "4dc4680a",
   "metadata": {},
   "source": [
    "#### List vs Numpy - Time Taken"
   ]
  },
  {
   "cell_type": "code",
   "execution_count": 6,
   "id": "ad4bcdbd",
   "metadata": {},
   "outputs": [],
   "source": [
    "from time import process_time"
   ]
  },
  {
   "cell_type": "markdown",
   "id": "54360299",
   "metadata": {},
   "source": [
    "Time taken by a list"
   ]
  },
  {
   "cell_type": "code",
   "execution_count": 8,
   "id": "6dfba159",
   "metadata": {},
   "outputs": [
    {
     "name": "stdout",
     "output_type": "stream",
     "text": [
      "0.0\n"
     ]
    }
   ],
   "source": [
    "python_list = [i for i in range(1000)]\n",
    "\n",
    "start_time = process_time()\n",
    "\n",
    "python_list = [i+5 for i in python_list]\n",
    "\n",
    "end_time = process_time()\n",
    "\n",
    "print(end_time - start_time)   # 0.000218713000002424"
   ]
  },
  {
   "cell_type": "code",
   "execution_count": 9,
   "id": "5999c148",
   "metadata": {},
   "outputs": [
    {
     "name": "stdout",
     "output_type": "stream",
     "text": [
      "0.0\n"
     ]
    }
   ],
   "source": [
    "np_array = np.array([i for i in range(10000)])\n",
    "\n",
    "start_time = process_time()\n",
    "\n",
    "np_array += 5\n",
    "\n",
    "end_time = process_time()\n",
    "\n",
    "print(end_time - start_time)   # 0.00015789400000087994"
   ]
  },
  {
   "cell_type": "code",
   "execution_count": null,
   "id": "b44fb43b",
   "metadata": {},
   "outputs": [],
   "source": []
  },
  {
   "cell_type": "markdown",
   "id": "b035010b",
   "metadata": {},
   "source": [
    "## Numpy Arrays"
   ]
  },
  {
   "cell_type": "code",
   "execution_count": 10,
   "id": "2e2c9981",
   "metadata": {},
   "outputs": [
    {
     "name": "stdout",
     "output_type": "stream",
     "text": [
      "[1, 2, 3, 4, 5]\n"
     ]
    },
    {
     "data": {
      "text/plain": [
       "list"
      ]
     },
     "execution_count": 10,
     "metadata": {},
     "output_type": "execute_result"
    }
   ],
   "source": [
    "# list\n",
    "list1 = [1,2,3,4,5]\n",
    "\n",
    "print(list1)\n",
    "type(list1)"
   ]
  },
  {
   "cell_type": "code",
   "execution_count": 11,
   "id": "c144d31e",
   "metadata": {},
   "outputs": [
    {
     "name": "stdout",
     "output_type": "stream",
     "text": [
      "[1 2 3 4]\n"
     ]
    }
   ],
   "source": [
    "# creating a 1 dim array\n",
    "a = np.array([1,2,3,4])\n",
    "print(a)"
   ]
  },
  {
   "cell_type": "code",
   "execution_count": 12,
   "id": "180aec68",
   "metadata": {},
   "outputs": [
    {
     "data": {
      "text/plain": [
       "(4,)"
      ]
     },
     "execution_count": 12,
     "metadata": {},
     "output_type": "execute_result"
    }
   ],
   "source": [
    "a.shape"
   ]
  },
  {
   "cell_type": "code",
   "execution_count": 13,
   "id": "655a1986",
   "metadata": {},
   "outputs": [
    {
     "name": "stdout",
     "output_type": "stream",
     "text": [
      "[[1 2 3 4]\n",
      " [5 6 7 8]]\n"
     ]
    }
   ],
   "source": [
    "b = np.array([(1,2,3,4), (5,6,7,8)])\n",
    "print(b)"
   ]
  },
  {
   "cell_type": "code",
   "execution_count": 14,
   "id": "e2eb8de6",
   "metadata": {},
   "outputs": [
    {
     "data": {
      "text/plain": [
       "(2, 4)"
      ]
     },
     "execution_count": 14,
     "metadata": {},
     "output_type": "execute_result"
    }
   ],
   "source": [
    "b.shape"
   ]
  },
  {
   "cell_type": "code",
   "execution_count": 15,
   "id": "ee64c9d6",
   "metadata": {},
   "outputs": [
    {
     "name": "stdout",
     "output_type": "stream",
     "text": [
      "[[1. 2. 3. 4.]\n",
      " [5. 6. 7. 8.]]\n"
     ]
    }
   ],
   "source": [
    "c = np.array([(1,2,3,4), (5,6,7,8)], dtype=float)\n",
    "\n",
    "print(c)"
   ]
  },
  {
   "cell_type": "code",
   "execution_count": null,
   "id": "88aafbf9",
   "metadata": {},
   "outputs": [],
   "source": []
  },
  {
   "cell_type": "markdown",
   "id": "527c50c8",
   "metadata": {},
   "source": [
    "Initial Placeholders in numpy arrays"
   ]
  },
  {
   "cell_type": "code",
   "execution_count": 17,
   "id": "b6c7a060",
   "metadata": {},
   "outputs": [
    {
     "name": "stdout",
     "output_type": "stream",
     "text": [
      "[[0 0 0 0 0]\n",
      " [0 0 0 0 0]\n",
      " [0 0 0 0 0]\n",
      " [0 0 0 0 0]]\n"
     ]
    }
   ],
   "source": [
    "# create a numpy array of Zeros\n",
    "x = np.zeros((4,5), dtype=int)\n",
    "print(x)"
   ]
  },
  {
   "cell_type": "code",
   "execution_count": 18,
   "id": "c6b4d78d",
   "metadata": {},
   "outputs": [
    {
     "name": "stdout",
     "output_type": "stream",
     "text": [
      "[[1. 1. 1.]\n",
      " [1. 1. 1.]\n",
      " [1. 1. 1.]]\n"
     ]
    }
   ],
   "source": [
    "y = np.ones((3,3))\n",
    "print(y)"
   ]
  },
  {
   "cell_type": "code",
   "execution_count": 19,
   "id": "7bfc7f18",
   "metadata": {},
   "outputs": [
    {
     "name": "stdout",
     "output_type": "stream",
     "text": [
      "[[4 4 4 4]\n",
      " [4 4 4 4]\n",
      " [4 4 4 4]\n",
      " [4 4 4 4]\n",
      " [4 4 4 4]]\n"
     ]
    }
   ],
   "source": [
    "# array of a particular value\n",
    "z = np.full((5,4),4)\n",
    "print(z)"
   ]
  },
  {
   "cell_type": "code",
   "execution_count": 23,
   "id": "4305abda",
   "metadata": {},
   "outputs": [
    {
     "name": "stdout",
     "output_type": "stream",
     "text": [
      "[[1 0 0 0]\n",
      " [0 1 0 0]\n",
      " [0 0 1 0]\n",
      " [0 0 0 1]]\n"
     ]
    }
   ],
   "source": [
    "# create an identity matrix\n",
    "a = np.eye(4, dtype=int)\n",
    "print(a)"
   ]
  },
  {
   "cell_type": "code",
   "execution_count": 31,
   "id": "8409998d",
   "metadata": {},
   "outputs": [],
   "source": [
    "# create a numpy array with random values\n",
    "b = np.random.random((3,4))"
   ]
  },
  {
   "cell_type": "code",
   "execution_count": 32,
   "id": "bf32339f",
   "metadata": {},
   "outputs": [
    {
     "name": "stdout",
     "output_type": "stream",
     "text": [
      "[[0.14625821 0.3753761  0.29455935 0.16591444]\n",
      " [0.79794238 0.21779057 0.70560649 0.4141842 ]\n",
      " [0.33527064 0.05524604 0.99185785 0.12790797]]\n"
     ]
    }
   ],
   "source": [
    "print(b)"
   ]
  },
  {
   "cell_type": "code",
   "execution_count": 33,
   "id": "e5eba747",
   "metadata": {},
   "outputs": [
    {
     "name": "stdout",
     "output_type": "stream",
     "text": [
      "[[16 60 72 41 35]\n",
      " [56 33 27 46 46]\n",
      " [37 49 34 58 98]]\n"
     ]
    }
   ],
   "source": [
    "# random integer values array within a specific range\n",
    "c = np.random.randint(10, 100, (3,5))\n",
    "print(c)"
   ]
  },
  {
   "cell_type": "code",
   "execution_count": 36,
   "id": "76cf41c4",
   "metadata": {},
   "outputs": [
    {
     "name": "stdout",
     "output_type": "stream",
     "text": [
      "[10. 14. 18. 22. 26. 30.]\n"
     ]
    }
   ],
   "source": [
    "# array of evenly saced values --> specifying the number of values required\n",
    "d = np.linspace(10, 30, 6)\n",
    "print(d)"
   ]
  },
  {
   "cell_type": "code",
   "execution_count": 40,
   "id": "232fae3f",
   "metadata": {},
   "outputs": [
    {
     "name": "stdout",
     "output_type": "stream",
     "text": [
      "[10 15 20 25]\n"
     ]
    }
   ],
   "source": [
    "# array of evenly spaced values --> specifying the step\n",
    "e = np.arange(10, 30, 5)\n",
    "print(e)"
   ]
  },
  {
   "cell_type": "code",
   "execution_count": 41,
   "id": "461f0756",
   "metadata": {},
   "outputs": [
    {
     "name": "stdout",
     "output_type": "stream",
     "text": [
      "[10 20 20 20 50]\n"
     ]
    },
    {
     "data": {
      "text/plain": [
       "numpy.ndarray"
      ]
     },
     "execution_count": 41,
     "metadata": {},
     "output_type": "execute_result"
    }
   ],
   "source": [
    "# convert a list to a numpy array\n",
    "list2 = [10,20,20,20,50]\n",
    "\n",
    "np_array = np.array(list2)\n",
    "print(np_array)\n",
    "type(np_array)"
   ]
  },
  {
   "cell_type": "code",
   "execution_count": null,
   "id": "3164580d",
   "metadata": {},
   "outputs": [],
   "source": []
  },
  {
   "cell_type": "markdown",
   "id": "4da38d23",
   "metadata": {},
   "source": [
    "Analysing a numpy array"
   ]
  },
  {
   "cell_type": "code",
   "execution_count": 44,
   "id": "3e00bfc3",
   "metadata": {},
   "outputs": [
    {
     "name": "stdout",
     "output_type": "stream",
     "text": [
      "[[13 71 11 34 16]\n",
      " [34 21 67 48 73]\n",
      " [42 82 41 26 10]\n",
      " [64 51 86 19 86]\n",
      " [67 17 73 33 72]]\n"
     ]
    }
   ],
   "source": [
    "c = np.random.randint(10, 90, (5,5))\n",
    "print(c)"
   ]
  },
  {
   "cell_type": "code",
   "execution_count": 45,
   "id": "14b7db77",
   "metadata": {},
   "outputs": [
    {
     "name": "stdout",
     "output_type": "stream",
     "text": [
      "(5, 5)\n"
     ]
    }
   ],
   "source": [
    "# array dimension\n",
    "print(c.shape)"
   ]
  },
  {
   "cell_type": "code",
   "execution_count": 46,
   "id": "26d8adc6",
   "metadata": {},
   "outputs": [
    {
     "name": "stdout",
     "output_type": "stream",
     "text": [
      "2\n"
     ]
    }
   ],
   "source": [
    "# number of dimentions\n",
    "print(c.ndim)"
   ]
  },
  {
   "cell_type": "code",
   "execution_count": 47,
   "id": "8e7f9a48",
   "metadata": {},
   "outputs": [
    {
     "name": "stdout",
     "output_type": "stream",
     "text": [
      "25\n"
     ]
    }
   ],
   "source": [
    "# number of elements in an array\n",
    "print(c.size)"
   ]
  },
  {
   "cell_type": "code",
   "execution_count": 48,
   "id": "73512b59",
   "metadata": {},
   "outputs": [
    {
     "name": "stdout",
     "output_type": "stream",
     "text": [
      "int32\n"
     ]
    }
   ],
   "source": [
    "# checking the data types of the values in the array\n",
    "print(c.dtype)"
   ]
  },
  {
   "cell_type": "markdown",
   "id": "f1ca12b7",
   "metadata": {},
   "source": [
    "## Mathematical operations on a np array"
   ]
  },
  {
   "cell_type": "code",
   "execution_count": 49,
   "id": "2cbcee25",
   "metadata": {},
   "outputs": [
    {
     "name": "stdout",
     "output_type": "stream",
     "text": [
      "[1, 2, 3, 4, 5, 6, 7, 8, 9, 10]\n"
     ]
    }
   ],
   "source": [
    "list1 = [1,2,3,4,5]\n",
    "list2 = [6,7,8,9,10]\n",
    "\n",
    "print(list1 + list2)"
   ]
  },
  {
   "cell_type": "code",
   "execution_count": 50,
   "id": "8cdd0449",
   "metadata": {},
   "outputs": [
    {
     "name": "stdout",
     "output_type": "stream",
     "text": [
      "[[8 9 2]\n",
      " [9 1 8]\n",
      " [1 8 8]]\n",
      "[[16 19 12]\n",
      " [14 18 16]\n",
      " [14 11 19]]\n"
     ]
    }
   ],
   "source": [
    "a = np.random.randint(0, 10, (3,3))\n",
    "b = np.random.randint(10, 20, (3,3))\n",
    "\n",
    "print(a)\n",
    "print(b)"
   ]
  },
  {
   "cell_type": "code",
   "execution_count": 52,
   "id": "edda276d",
   "metadata": {},
   "outputs": [
    {
     "name": "stdout",
     "output_type": "stream",
     "text": [
      "[[24 28 14]\n",
      " [23 19 24]\n",
      " [15 19 27]]\n",
      "[[ -8 -10 -10]\n",
      " [ -5 -17  -8]\n",
      " [-13  -3 -11]]\n",
      "[[128 171  24]\n",
      " [126  18 128]\n",
      " [ 14  88 152]]\n",
      "[[0.5        0.47368421 0.16666667]\n",
      " [0.64285714 0.05555556 0.5       ]\n",
      " [0.07142857 0.72727273 0.42105263]]\n"
     ]
    }
   ],
   "source": [
    "print(a+b)\n",
    "print(a-b)\n",
    "print(a*b)\n",
    "print(a/b)"
   ]
  },
  {
   "cell_type": "code",
   "execution_count": 53,
   "id": "7120726e",
   "metadata": {},
   "outputs": [],
   "source": [
    "a = np.random.randint(0, 10, (3,3))\n",
    "b = np.random.randint(10, 20, (3,3))"
   ]
  },
  {
   "cell_type": "code",
   "execution_count": 54,
   "id": "c48ad48e",
   "metadata": {},
   "outputs": [
    {
     "name": "stdout",
     "output_type": "stream",
     "text": [
      "[[0 5 6]\n",
      " [6 9 0]\n",
      " [1 3 5]]\n",
      "[[19 12 19]\n",
      " [19 17 10]\n",
      " [17 19 18]]\n"
     ]
    }
   ],
   "source": [
    "print(a)\n",
    "print(b)"
   ]
  },
  {
   "cell_type": "code",
   "execution_count": 57,
   "id": "497ab089",
   "metadata": {},
   "outputs": [
    {
     "name": "stdout",
     "output_type": "stream",
     "text": [
      "[[19 17 25]\n",
      " [25 26 10]\n",
      " [18 22 23]]\n",
      "[[-19  -7 -13]\n",
      " [-13  -8 -10]\n",
      " [-16 -16 -13]]\n",
      "[[  0  60 114]\n",
      " [114 153   0]\n",
      " [ 17  57  90]]\n",
      "[[0.         0.41666667 0.31578947]\n",
      " [0.31578947 0.52941176 0.        ]\n",
      " [0.05882353 0.15789474 0.27777778]]\n"
     ]
    }
   ],
   "source": [
    "print(np.add(a,b))\n",
    "print(np.subtract(a,b))\n",
    "print(np.multiply(a,b))\n",
    "print(np.divide(a,b))"
   ]
  },
  {
   "cell_type": "code",
   "execution_count": null,
   "id": "8cfe3138",
   "metadata": {},
   "outputs": [],
   "source": []
  },
  {
   "cell_type": "markdown",
   "id": "f7600466",
   "metadata": {},
   "source": [
    "## Array Manipulation"
   ]
  },
  {
   "cell_type": "code",
   "execution_count": 58,
   "id": "ea65272b",
   "metadata": {},
   "outputs": [
    {
     "name": "stdout",
     "output_type": "stream",
     "text": [
      "[[8 7 9]\n",
      " [5 6 5]]\n",
      "(2, 3)\n"
     ]
    }
   ],
   "source": [
    "array = np.random.randint(0, 10, (2,3))\n",
    "print(array)\n",
    "print(array.shape)"
   ]
  },
  {
   "cell_type": "code",
   "execution_count": 63,
   "id": "4f6717b4",
   "metadata": {},
   "outputs": [
    {
     "name": "stdout",
     "output_type": "stream",
     "text": [
      "[[8 5]\n",
      " [7 6]\n",
      " [9 5]]\n",
      "(3, 2)\n"
     ]
    }
   ],
   "source": [
    "# transpose\n",
    "\n",
    "trans = np.transpose(array)\n",
    "print(trans)\n",
    "print(trans.shape)"
   ]
  },
  {
   "cell_type": "code",
   "execution_count": 65,
   "id": "28fc113a",
   "metadata": {},
   "outputs": [
    {
     "name": "stdout",
     "output_type": "stream",
     "text": [
      "[[6 1 2]\n",
      " [8 0 9]]\n",
      "(2, 3)\n"
     ]
    }
   ],
   "source": [
    "array = np.random.randint(0, 10, (2,3))\n",
    "print(array)\n",
    "print(array.shape)"
   ]
  },
  {
   "cell_type": "code",
   "execution_count": 66,
   "id": "a5ac478a",
   "metadata": {},
   "outputs": [
    {
     "name": "stdout",
     "output_type": "stream",
     "text": [
      "[[6 8]\n",
      " [1 0]\n",
      " [2 9]]\n",
      "(3, 2)\n"
     ]
    }
   ],
   "source": [
    "trans2 = array.T\n",
    "print(trans2)\n",
    "print(trans2.shape)"
   ]
  },
  {
   "cell_type": "code",
   "execution_count": 67,
   "id": "a99863d5",
   "metadata": {},
   "outputs": [
    {
     "name": "stdout",
     "output_type": "stream",
     "text": [
      "[[1 9 9]\n",
      " [3 2 8]]\n",
      "(2, 3)\n"
     ]
    }
   ],
   "source": [
    "# reshaping an array\n",
    "\n",
    "a = np.random.randint(0, 10, (2,3))\n",
    "print(a)\n",
    "print(a.shape)"
   ]
  },
  {
   "cell_type": "code",
   "execution_count": 68,
   "id": "d6c34665",
   "metadata": {},
   "outputs": [],
   "source": [
    "b = a.reshape(3,2)"
   ]
  },
  {
   "cell_type": "code",
   "execution_count": 69,
   "id": "0e445c13",
   "metadata": {},
   "outputs": [
    {
     "data": {
      "text/plain": [
       "array([[1, 9],\n",
       "       [9, 3],\n",
       "       [2, 8]])"
      ]
     },
     "execution_count": 69,
     "metadata": {},
     "output_type": "execute_result"
    }
   ],
   "source": [
    "b"
   ]
  },
  {
   "cell_type": "code",
   "execution_count": null,
   "id": "51960cab",
   "metadata": {},
   "outputs": [],
   "source": []
  }
 ],
 "metadata": {
  "kernelspec": {
   "display_name": "Python 3",
   "language": "python",
   "name": "python3"
  },
  "language_info": {
   "codemirror_mode": {
    "name": "ipython",
    "version": 3
   },
   "file_extension": ".py",
   "mimetype": "text/x-python",
   "name": "python",
   "nbconvert_exporter": "python",
   "pygments_lexer": "ipython3",
   "version": "3.8.8"
  }
 },
 "nbformat": 4,
 "nbformat_minor": 5
}
