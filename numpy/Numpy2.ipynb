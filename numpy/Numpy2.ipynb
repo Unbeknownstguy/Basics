{
 "cells": [
  {
   "cell_type": "markdown",
   "id": "1ac3a3d8",
   "metadata": {},
   "source": [
    "## Numpy"
   ]
  },
  {
   "cell_type": "code",
   "execution_count": 5,
   "id": "5fb83427",
   "metadata": {},
   "outputs": [],
   "source": [
    "import numpy as np"
   ]
  },
  {
   "cell_type": "code",
   "execution_count": 6,
   "id": "e23e57ba",
   "metadata": {},
   "outputs": [
    {
     "data": {
      "text/plain": [
       "5"
      ]
     },
     "execution_count": 6,
     "metadata": {},
     "output_type": "execute_result"
    }
   ],
   "source": [
    "np.absolute(-5)"
   ]
  },
  {
   "cell_type": "code",
   "execution_count": 7,
   "id": "578b701a",
   "metadata": {},
   "outputs": [],
   "source": [
    "a = np.array([1,2,3,4])"
   ]
  },
  {
   "cell_type": "code",
   "execution_count": 8,
   "id": "f9775e37",
   "metadata": {
    "scrolled": true
   },
   "outputs": [
    {
     "data": {
      "text/plain": [
       "numpy.ndarray"
      ]
     },
     "execution_count": 8,
     "metadata": {},
     "output_type": "execute_result"
    }
   ],
   "source": [
    "type(a)"
   ]
  },
  {
   "cell_type": "code",
   "execution_count": 9,
   "id": "99c646b1",
   "metadata": {},
   "outputs": [
    {
     "data": {
      "text/plain": [
       "(4,)"
      ]
     },
     "execution_count": 9,
     "metadata": {},
     "output_type": "execute_result"
    }
   ],
   "source": [
    "a.shape"
   ]
  },
  {
   "cell_type": "code",
   "execution_count": 10,
   "id": "ac9b6cc9",
   "metadata": {},
   "outputs": [
    {
     "name": "stdout",
     "output_type": "stream",
     "text": [
      "[[1 2 3 4]\n",
      " [5 6 7 8]]\n"
     ]
    }
   ],
   "source": [
    "b = np.array([[1,2,3,4], [5,6,7,8]])\n",
    "print(b)"
   ]
  },
  {
   "cell_type": "code",
   "execution_count": 11,
   "id": "e2ad3bba",
   "metadata": {},
   "outputs": [
    {
     "name": "stdout",
     "output_type": "stream",
     "text": [
      "(2, 4)\n"
     ]
    }
   ],
   "source": [
    "print(b.shape)"
   ]
  },
  {
   "cell_type": "code",
   "execution_count": 12,
   "id": "3eab0561",
   "metadata": {},
   "outputs": [
    {
     "data": {
      "text/plain": [
       "array([[1, 5],\n",
       "       [2, 6],\n",
       "       [3, 7],\n",
       "       [4, 8]])"
      ]
     },
     "execution_count": 12,
     "metadata": {},
     "output_type": "execute_result"
    }
   ],
   "source": [
    "#transepose\n",
    "b.T"
   ]
  },
  {
   "cell_type": "code",
   "execution_count": 13,
   "id": "c8fc365a",
   "metadata": {},
   "outputs": [
    {
     "data": {
      "text/plain": [
       "array([[ 30,  70],\n",
       "       [ 70, 174]])"
      ]
     },
     "execution_count": 13,
     "metadata": {},
     "output_type": "execute_result"
    }
   ],
   "source": [
    "#dot_Product\n",
    "np.dot(b,b.T)"
   ]
  },
  {
   "cell_type": "code",
   "execution_count": 14,
   "id": "38b2f335",
   "metadata": {},
   "outputs": [],
   "source": [
    "#check\n",
    "np.random.randint?"
   ]
  },
  {
   "cell_type": "code",
   "execution_count": 15,
   "id": "ee4e93e3",
   "metadata": {},
   "outputs": [
    {
     "data": {
      "text/plain": [
       "array([82, 72, 78, 86, 72, 63, 77, 74, 74, 72])"
      ]
     },
     "execution_count": 15,
     "metadata": {},
     "output_type": "execute_result"
    }
   ],
   "source": [
    "#randint(low, high=None, size=None, dtype=int)\n",
    "np.random.randint(60, 100,10)"
   ]
  },
  {
   "cell_type": "code",
   "execution_count": 16,
   "id": "4394c0d2",
   "metadata": {},
   "outputs": [],
   "source": [
    "matrix = np.random.randint(60, 100,(5,5))"
   ]
  },
  {
   "cell_type": "code",
   "execution_count": 17,
   "id": "78088a24",
   "metadata": {},
   "outputs": [
    {
     "data": {
      "text/plain": [
       "array([[87, 64, 82, 71, 79],\n",
       "       [83, 88, 83, 90, 80],\n",
       "       [96, 88, 64, 98, 85],\n",
       "       [78, 94, 77, 83, 91],\n",
       "       [87, 85, 89, 77, 91]])"
      ]
     },
     "execution_count": 17,
     "metadata": {},
     "output_type": "execute_result"
    }
   ],
   "source": [
    "matrix"
   ]
  },
  {
   "cell_type": "code",
   "execution_count": 18,
   "id": "c8956832",
   "metadata": {},
   "outputs": [
    {
     "data": {
      "text/plain": [
       "98"
      ]
     },
     "execution_count": 18,
     "metadata": {},
     "output_type": "execute_result"
    }
   ],
   "source": [
    "np.max(matrix)"
   ]
  },
  {
   "cell_type": "code",
   "execution_count": 19,
   "id": "5d224176",
   "metadata": {},
   "outputs": [
    {
     "data": {
      "text/plain": [
       "64"
      ]
     },
     "execution_count": 19,
     "metadata": {},
     "output_type": "execute_result"
    }
   ],
   "source": [
    "np.min(matrix)"
   ]
  },
  {
   "cell_type": "code",
   "execution_count": 20,
   "id": "cdfdd1bb",
   "metadata": {},
   "outputs": [],
   "source": [
    "a = np.array([0,1,2,-8,6,8,-10])"
   ]
  },
  {
   "cell_type": "code",
   "execution_count": 21,
   "id": "bba022f7",
   "metadata": {},
   "outputs": [
    {
     "data": {
      "text/plain": [
       "6"
      ]
     },
     "execution_count": 21,
     "metadata": {},
     "output_type": "execute_result"
    }
   ],
   "source": [
    "#index of minimum in an array\n",
    "np.argmin(a)"
   ]
  },
  {
   "cell_type": "code",
   "execution_count": 22,
   "id": "e2c0a372",
   "metadata": {},
   "outputs": [],
   "source": [
    "b = np.array([0,0,1,1,1,2,3,4,4,5])"
   ]
  },
  {
   "cell_type": "code",
   "execution_count": 23,
   "id": "b0cbcec7",
   "metadata": {},
   "outputs": [
    {
     "data": {
      "text/plain": [
       "array([0, 1, 2, 3, 4, 5])"
      ]
     },
     "execution_count": 23,
     "metadata": {},
     "output_type": "execute_result"
    }
   ],
   "source": [
    "#generates unique values in an array\n",
    "np.unique(b)"
   ]
  },
  {
   "cell_type": "code",
   "execution_count": 24,
   "id": "c1acce97",
   "metadata": {},
   "outputs": [],
   "source": [
    "c, counts = np.unique(b, return_counts=True)"
   ]
  },
  {
   "cell_type": "code",
   "execution_count": 25,
   "id": "5816212a",
   "metadata": {},
   "outputs": [
    {
     "data": {
      "text/plain": [
       "array([0, 1, 2, 3, 4, 5])"
      ]
     },
     "execution_count": 25,
     "metadata": {},
     "output_type": "execute_result"
    }
   ],
   "source": [
    "c"
   ]
  },
  {
   "cell_type": "code",
   "execution_count": 26,
   "id": "952f4a55",
   "metadata": {},
   "outputs": [
    {
     "data": {
      "text/plain": [
       "array([2, 3, 1, 1, 2, 1], dtype=int64)"
      ]
     },
     "execution_count": 26,
     "metadata": {},
     "output_type": "execute_result"
    }
   ],
   "source": [
    "counts"
   ]
  },
  {
   "cell_type": "markdown",
   "id": "795b4f76",
   "metadata": {},
   "source": [
    "### Program to find out the number with the highest frequency in the number"
   ]
  },
  {
   "cell_type": "code",
   "execution_count": 27,
   "id": "6a1f760f",
   "metadata": {},
   "outputs": [],
   "source": [
    "d = np.unique(b, return_counts=True)"
   ]
  },
  {
   "cell_type": "code",
   "execution_count": 28,
   "id": "433832f4",
   "metadata": {},
   "outputs": [
    {
     "data": {
      "text/plain": [
       "(array([0, 1, 2, 3, 4, 5]), array([2, 3, 1, 1, 2, 1], dtype=int64))"
      ]
     },
     "execution_count": 28,
     "metadata": {},
     "output_type": "execute_result"
    }
   ],
   "source": [
    "d"
   ]
  },
  {
   "cell_type": "code",
   "execution_count": 30,
   "id": "1c164462",
   "metadata": {},
   "outputs": [
    {
     "name": "stdout",
     "output_type": "stream",
     "text": [
      "1\n"
     ]
    }
   ],
   "source": [
    "index = np.argmax(d[1]) #index with highest freq\n",
    "ele = d[0][index]\n",
    "print(ele)"
   ]
  },
  {
   "cell_type": "markdown",
   "id": "63a9ffc0",
   "metadata": {},
   "source": [
    "## Slicing Array"
   ]
  },
  {
   "cell_type": "code",
   "execution_count": 31,
   "id": "d8ef3f8f",
   "metadata": {},
   "outputs": [
    {
     "data": {
      "text/plain": [
       "array([[87, 64, 82, 71, 79],\n",
       "       [83, 88, 83, 90, 80],\n",
       "       [96, 88, 64, 98, 85],\n",
       "       [78, 94, 77, 83, 91],\n",
       "       [87, 85, 89, 77, 91]])"
      ]
     },
     "execution_count": 31,
     "metadata": {},
     "output_type": "execute_result"
    }
   ],
   "source": [
    "matrix"
   ]
  },
  {
   "cell_type": "code",
   "execution_count": 32,
   "id": "d1ea6246",
   "metadata": {},
   "outputs": [
    {
     "data": {
      "text/plain": [
       "array([[88, 64, 98],\n",
       "       [94, 77, 83]])"
      ]
     },
     "execution_count": 32,
     "metadata": {},
     "output_type": "execute_result"
    }
   ],
   "source": [
    "# start: end+1\n",
    "matrix[2:4, 1:4]"
   ]
  },
  {
   "cell_type": "code",
   "execution_count": 34,
   "id": "4b4c2f66",
   "metadata": {},
   "outputs": [
    {
     "data": {
      "text/plain": [
       "array([[71, 79],\n",
       "       [90, 80],\n",
       "       [98, 85],\n",
       "       [83, 91],\n",
       "       [77, 91]])"
      ]
     },
     "execution_count": 34,
     "metadata": {},
     "output_type": "execute_result"
    }
   ],
   "source": [
    "matrix[:, 3:]"
   ]
  },
  {
   "cell_type": "code",
   "execution_count": null,
   "id": "28924823",
   "metadata": {},
   "outputs": [],
   "source": []
  }
 ],
 "metadata": {
  "kernelspec": {
   "display_name": "Python 3",
   "language": "python",
   "name": "python3"
  },
  "language_info": {
   "codemirror_mode": {
    "name": "ipython",
    "version": 3
   },
   "file_extension": ".py",
   "mimetype": "text/x-python",
   "name": "python",
   "nbconvert_exporter": "python",
   "pygments_lexer": "ipython3",
   "version": "3.8.8"
  }
 },
 "nbformat": 4,
 "nbformat_minor": 5
}
